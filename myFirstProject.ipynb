{
  "nbformat": 4,
  "nbformat_minor": 0,
  "metadata": {
    "colab": {
      "provenance": [],
      "authorship_tag": "ABX9TyNL0kg7JJkv1Lp3brJZ4nhz",
      "include_colab_link": true
    },
    "kernelspec": {
      "name": "python3",
      "display_name": "Python 3"
    },
    "language_info": {
      "name": "python"
    }
  },
  "cells": [
    {
      "cell_type": "markdown",
      "metadata": {
        "id": "view-in-github",
        "colab_type": "text"
      },
      "source": [
        "<a href=\"https://colab.research.google.com/github/codingBot23218/codingBot23218/blob/main/myFirstProject.ipynb\" target=\"_parent\"><img src=\"https://colab.research.google.com/assets/colab-badge.svg\" alt=\"Open In Colab\"/></a>"
      ]
    },
    {
      "cell_type": "code",
      "source": [
        "import random\n",
        "import numpy as np\n",
        "MAX_BET = 100\n",
        "MIN_BET = 1\n",
        "ROWS = 3\n",
        "COLS = 3\n",
        "\n",
        "symbols_count = {\n",
        "    \"A\" : 2,\n",
        "    \"B\" : 4,\n",
        "    \"C\" : 6,\n",
        "    \"D\" : 8\n",
        "    }"
      ],
      "metadata": {
        "id": "OCF5FA9NK4wR"
      },
      "execution_count": 23,
      "outputs": []
    },
    {
      "cell_type": "code",
      "source": [
        "def bet_machine_spin(rows,cols,symbol):\n",
        "  all_symbols = []\n",
        "  for symbols, symbol_count in symbols_count.items():\n",
        "    for _ in range(symbol_count):\n",
        "      all_symbols.append(symbols)\n",
        "  columns = []\n",
        "  for _ in range(cols):\n",
        "    column =[]\n",
        "    current_symbols = all_symbols[:]\n",
        "    for _ in range(rows):\n",
        "      value = random.choice(current_symbols)\n",
        "      value.append(column)\n",
        "      current_symbols.remove(value)\n",
        "\n",
        "    columns.append(columns)\n",
        "\n"
      ],
      "metadata": {
        "id": "h1QNGHxaMpYf"
      },
      "execution_count": 22,
      "outputs": []
    },
    {
      "cell_type": "code",
      "source": [
        "def deposit():\n",
        "  while True:\n",
        "    amount = input(\"Enter the balance\")\n",
        "    if amount.isdigit():\n",
        "        balance = int(amount)\n",
        "        if balance > 0:\n",
        "          return balance\n",
        "    else:\n",
        "      print(\"Enter the valid amount , please !!!!\")"
      ],
      "metadata": {
        "id": "rGHwPcW4FtkG"
      },
      "execution_count": null,
      "outputs": []
    },
    {
      "cell_type": "code",
      "source": [
        "def print_machine(columns):\n",
        "  columns = np.array(columns)\n",
        "  columns = np.transpose(columns)\n",
        ""
      ],
      "metadata": {
        "id": "EBhXjLdtPpFl"
      },
      "execution_count": 29,
      "outputs": []
    },
    {
      "cell_type": "code",
      "source": [
        "def get_no_of_line():\n",
        "  while True:\n",
        "    lines = input(\"Enter the no of Lines\")\n",
        "    if lines.isdigit():\n",
        "      lines = int(lines)\n",
        "      if 1<= lines <= 3:\n",
        "        return lines\n",
        "      else :\n",
        "        print(\"enter the no . of lines in the range of 1-3\")\n",
        "    else:\n",
        "      print(\"Enter the valid no. of lines , please !!!!\")\n"
      ],
      "metadata": {
        "id": "T3HoDbSQJkW5"
      },
      "execution_count": 27,
      "outputs": []
    },
    {
      "cell_type": "code",
      "source": [
        "def bet():\n",
        "   while True:\n",
        "     bet = input(\"what's your bet on each line ???\")\n",
        "     if bet.isdigit():\n",
        "       bet = int(bet)\n",
        "       if 1 <= bet <= 100:\n",
        "         return bet\n",
        "       else:\n",
        "        print(\"enter a valid bet\")\n",
        "     else:\n",
        "      print(\"enter a valid bet\")\n",
        ""
      ],
      "metadata": {
        "id": "0q9ol5BfJo3z"
      },
      "execution_count": 28,
      "outputs": []
    }
  ]
}